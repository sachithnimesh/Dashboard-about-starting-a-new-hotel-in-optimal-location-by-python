{
 "cells": [
  {
   "cell_type": "raw",
   "id": "9a6f4cde",
   "metadata": {},
   "source": [
    "!pip install dash dash-core-components dash-html-components plotly scikit-learn pandas\n"
   ]
  },
  {
   "cell_type": "raw",
   "id": "05dc5c69",
   "metadata": {},
   "source": [
    "!pip install dash dash-core-components dash-html-components plotly scikit-learn pandas\n"
   ]
  },
  {
   "cell_type": "code",
   "execution_count": 24,
   "id": "b38200cf",
   "metadata": {
    "scrolled": false
   },
   "outputs": [
    {
     "name": "stderr",
     "output_type": "stream",
     "text": [
      "C:\\Users\\sachi\\AppData\\Local\\Temp\\ipykernel_9788\\3417586339.py:2: UserWarning: \n",
      "The dash_core_components package is deprecated. Please replace\n",
      "`import dash_core_components as dcc` with `from dash import dcc`\n",
      "  import dash_core_components as dcc\n",
      "C:\\Users\\sachi\\AppData\\Local\\Temp\\ipykernel_9788\\3417586339.py:3: UserWarning: \n",
      "The dash_html_components package is deprecated. Please replace\n",
      "`import dash_html_components as html` with `from dash import html`\n",
      "  import dash_html_components as html\n",
      "C:\\Users\\sachi\\anaconda3\\Lib\\site-packages\\sklearn\\cluster\\_kmeans.py:1412: FutureWarning: The default value of `n_init` will change from 10 to 'auto' in 1.4. Set the value of `n_init` explicitly to suppress the warning\n",
      "  super()._check_params_vs_input(X, default_n_init=10)\n",
      "C:\\Users\\sachi\\anaconda3\\Lib\\site-packages\\sklearn\\cluster\\_kmeans.py:1436: UserWarning: KMeans is known to have a memory leak on Windows with MKL, when there are less chunks than available threads. You can avoid it by setting the environment variable OMP_NUM_THREADS=1.\n",
      "  warnings.warn(\n"
     ]
    },
    {
     "data": {
      "text/html": [
       "\n",
       "        <iframe\n",
       "            width=\"100%\"\n",
       "            height=\"650\"\n",
       "            src=\"http://127.0.0.1:8050/\"\n",
       "            frameborder=\"0\"\n",
       "            allowfullscreen\n",
       "            \n",
       "        ></iframe>\n",
       "        "
      ],
      "text/plain": [
       "<IPython.lib.display.IFrame at 0x20d379b1750>"
      ]
     },
     "metadata": {},
     "output_type": "display_data"
    }
   ],
   "source": [
    "import dash\n",
    "import dash_core_components as dcc\n",
    "import dash_html_components as html\n",
    "from dash.dependencies import Input, Output\n",
    "import plotly.express as px\n",
    "from sklearn.cluster import KMeans\n",
    "import pandas as pd\n",
    "\n",
    "# Load and preprocess your dataset\n",
    "# Assuming df is your DataFrame\n",
    "# Perform K-means clustering\n",
    "kmeans = KMeans(n_clusters=3)  # Adjust the number of clusters as needed\n",
    "df['cluster'] = kmeans.fit_predict(df[['Students_Total']])\n",
    "\n",
    "# Create the Dash app\n",
    "app = dash.Dash(__name__)\n",
    "\n",
    "# Define layout\n",
    "app.layout = html.Div([\n",
    "    html.H1(\"District Clustering Dashboard\"),\n",
    "    \n",
    "    dcc.Graph(\n",
    "        id='scatter-plot',\n",
    "        figure=px.scatter(df, x='longitude', y='latitude', color='cluster', size='Students_Total',\n",
    "                          title='Districts Clustering based on Total Students')\n",
    "    ),\n",
    "    \n",
    "    dcc.Dropdown(\n",
    "        id='district-dropdown',\n",
    "        options=[{'label': district, 'value': district} for district in df['District']],\n",
    "        value=df['District'].iloc[0],\n",
    "        multi=False,\n",
    "        placeholder='Select a District'\n",
    "    ),\n",
    "    \n",
    "    dcc.Graph(\n",
    "        id='bar-plot',\n",
    "        figure={}\n",
    "    )\n",
    "])\n",
    "\n",
    "# Define callback to update bar plot based on dropdown selection\n",
    "@app.callback(\n",
    "    Output('bar-plot', 'figure'),\n",
    "    [Input('district-dropdown', 'value')]\n",
    ")\n",
    "def update_bar_plot(selected_district):\n",
    "    filtered_df = df[df['District'] == selected_district]\n",
    "    return px.bar(filtered_df, x='Schools_Total', y='Students_Total', title=f'Schools and Students in {selected_district}')\n",
    "\n",
    "# Run the app\n",
    "if __name__ == '__main__':\n",
    "    app.run_server(debug=True)\n"
   ]
  },
  {
   "cell_type": "code",
   "execution_count": 27,
   "id": "2047d56c",
   "metadata": {},
   "outputs": [
    {
     "name": "stderr",
     "output_type": "stream",
     "text": [
      "C:\\Users\\sachi\\anaconda3\\Lib\\site-packages\\sklearn\\cluster\\_kmeans.py:1412: FutureWarning:\n",
      "\n",
      "The default value of `n_init` will change from 10 to 'auto' in 1.4. Set the value of `n_init` explicitly to suppress the warning\n",
      "\n",
      "C:\\Users\\sachi\\anaconda3\\Lib\\site-packages\\sklearn\\cluster\\_kmeans.py:1436: UserWarning:\n",
      "\n",
      "KMeans is known to have a memory leak on Windows with MKL, when there are less chunks than available threads. You can avoid it by setting the environment variable OMP_NUM_THREADS=1.\n",
      "\n"
     ]
    },
    {
     "data": {
      "text/html": [
       "\n",
       "        <iframe\n",
       "            width=\"100%\"\n",
       "            height=\"650\"\n",
       "            src=\"http://127.0.0.1:8050/\"\n",
       "            frameborder=\"0\"\n",
       "            allowfullscreen\n",
       "            \n",
       "        ></iframe>\n",
       "        "
      ],
      "text/plain": [
       "<IPython.lib.display.IFrame at 0x20d3b0b4450>"
      ]
     },
     "metadata": {},
     "output_type": "display_data"
    }
   ],
   "source": [
    "import dash\n",
    "import dash_core_components as dcc\n",
    "import dash_html_components as html\n",
    "from dash.dependencies import Input, Output\n",
    "from sklearn.cluster import KMeans\n",
    "import pandas as pd\n",
    "import plotly.express as px\n",
    "\n",
    "# Load and preprocess your dataset\n",
    "# Assuming df is your DataFrame\n",
    "# Perform K-means clustering\n",
    "kmeans = KMeans(n_clusters=3)  # Adjust the number of clusters as needed\n",
    "df['cluster'] = kmeans.fit_predict(df[['Students_Total']])\n",
    "\n",
    "# Create the Dash app\n",
    "app = dash.Dash(__name__)\n",
    "\n",
    "# Define layout\n",
    "app.layout = html.Div([\n",
    "    html.H1(\"District Clustering Dashboard\"),\n",
    "    \n",
    "    dcc.Graph(\n",
    "        id='scatter-plot',\n",
    "        figure=px.scatter(df, x='longitude', y='latitude', color='cluster', size='Students_Total',\n",
    "                          title='Districts Clustering based on Total Students')\n",
    "    ),\n",
    "    \n",
    "    html.Label(\"Enter the Total Number of Students:\"),\n",
    "    dcc.Input(\n",
    "        id='students-input',\n",
    "        type='number',\n",
    "        value=df['Students_Total'].min(),\n",
    "        min=df['Students_Total'].min(),\n",
    "        max=df['Students_Total'].max(),\n",
    "        step=1\n",
    "    ),\n",
    "    \n",
    "    html.Div(id='district-suggestion', style={'margin-top': 20}),\n",
    "])\n",
    "\n",
    "# Define callback to suggest a district based on the input value\n",
    "@app.callback(\n",
    "    Output('district-suggestion', 'children'),\n",
    "    [Input('students-input', 'value')]\n",
    ")\n",
    "def suggest_district(total_students):\n",
    "    if total_students is None or not isinstance(total_students, (int, float)):\n",
    "        return \"Please enter a valid number of students.\"\n",
    "\n",
    "    # Find the district with the closest total number of students\n",
    "    suggested_district = df.loc[df['Students_Total'].sub(total_students).abs().idxmin(), 'District']\n",
    "    return f\"Suggested District: {suggested_district}\"\n",
    "\n",
    "# Run the app\n",
    "if __name__ == '__main__':\n",
    "    app.run_server(debug=True)\n"
   ]
  },
  {
   "cell_type": "code",
   "execution_count": null,
   "id": "52f4190c",
   "metadata": {},
   "outputs": [],
   "source": []
  }
 ],
 "metadata": {
  "kernelspec": {
   "display_name": "Python 3 (ipykernel)",
   "language": "python",
   "name": "python3"
  },
  "language_info": {
   "codemirror_mode": {
    "name": "ipython",
    "version": 3
   },
   "file_extension": ".py",
   "mimetype": "text/x-python",
   "name": "python",
   "nbconvert_exporter": "python",
   "pygments_lexer": "ipython3",
   "version": "3.11.5"
  }
 },
 "nbformat": 4,
 "nbformat_minor": 5
}
